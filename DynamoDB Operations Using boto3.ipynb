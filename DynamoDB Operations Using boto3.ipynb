{
 "cells": [
  {
   "cell_type": "markdown",
   "metadata": {},
   "source": [
    "# Create, Retrieve, Update and Delete Operations in DynamoDB\n",
    "## 1. Introduction\n",
    "This notebook includes the following operations:\n",
    "1.  create table\n",
    "2.  list items in a specified table\n",
    "3.  add items to table\n",
    "4.  retrieve item by primary key\n",
    "5.  show the table information for a specified table\n",
    "6.  delete an item by primary key\n",
    "7.  update the value of a column of an item specified by primary key\n",
    "8.  query table using IndexName, KeyConditionExpression and filters\n",
    "9.  query table using scan table and filters\n",
    "10. delete a specified table\n",
    "11. update table by adding global secondary index\n",
    "12. upload text files to the specified table"
   ]
  },
  {
   "cell_type": "markdown",
   "metadata": {},
   "source": [
    "## 2. Load packages and AWS credentials"
   ]
  },
  {
   "cell_type": "code",
   "execution_count": 1,
   "metadata": {},
   "outputs": [],
   "source": [
    "import pandas as pd\n",
    "import matplotlib.pyplot as plt\n",
    "import boto3\n",
    "from boto3.dynamodb.conditions import Key, Attr\n",
    "import os\n",
    "import time\n",
    "import json\n",
    "import decimal\n",
    "\n",
    "aws_access_key=os.getenv(\"AWS_ACCESS_KEY\")\n",
    "aws_secret_access_key=os.getenv(\"AWS_SECRET_KEY\")\n",
    "region=os.getenv(\"AWS_REGION\")\n",
    "s3_bucket=\"s3://yourbucket/\""
   ]
  },
  {
   "cell_type": "markdown",
   "metadata": {},
   "source": [
    "## 3. DynamoDBDataManager class for data table operations"
   ]
  },
  {
   "cell_type": "code",
   "execution_count": 15,
   "metadata": {},
   "outputs": [],
   "source": [
    "class DecimalEncoder(json.JSONEncoder):\n",
    "    def default(self,o):\n",
    "        if isinstance(o,decimal.Decimal):\n",
    "            if o % 1 > 0:\n",
    "                return float(o)\n",
    "            else:\n",
    "                return int(o)\n",
    "        return super(DecimalEncoder, self).default(o)\n",
    "\n",
    "class DynamoDBDataManager():\n",
    "    def __init__(self, aws_access_key, aws_secret_access_key, region):\n",
    "        self.session=boto3.Session(aws_access_key_id=aws_access_key, aws_secret_access_key=aws_secret_access_key)\n",
    "        self.client=self.session.client('dynamodb', region)\n",
    "        self.resource=self.session.resource('dynamodb', region)\n",
    "        \n",
    "    def CreateTable(self, params):\n",
    "        self.client.create_table(**params)\n",
    "        table_name = params['TableName']\n",
    "        print('Waiting for creating', table_name, '...')\n",
    "        waiter = self.client.get_waiter('table_exists')\n",
    "        waiter.wait(TableName=table_name)\n",
    "        print(table_name+\" successfully created!\")\n",
    "        \n",
    "    def listTables(self):\n",
    "        return self.client.list_tables()['TableNames']\n",
    "    \n",
    "    def describeTable(self,table_name):\n",
    "        return self.client.describe_table(TableName=table_name)\n",
    "    \n",
    "    def deleteTable(self, table_name):\n",
    "        self.client.delete_table(TableName=table_name)\n",
    "        print('Waiting for deleting', table_name, '...')\n",
    "        waiter = self.client.get_waiter('table_not_exists')\n",
    "        waiter.wait(TableName=table_name)\n",
    "        print(table_name+\" successfully deleted!\")\n",
    "        \n",
    "    def addItem(self,table_name,item):\n",
    "        \"\"\"\n",
    "        Input:\n",
    "          table_name: string, name of the table\n",
    "          item: dictionary\n",
    "        \"\"\"\n",
    "        table = self.resource.Table(table_name)\n",
    "        \n",
    "        return table.put_item(\n",
    "            Item = item \n",
    "        )\n",
    "    \n",
    "    def getItem(self,table_name, key):\n",
    "        \"\"\"\n",
    "        Input:\n",
    "          table_name: string\n",
    "          key: directionary\n",
    "        \"\"\"\n",
    "        table = self.resource.Table(table_name)\n",
    "        \n",
    "        response = table.get_item(\n",
    "            Key = key\n",
    "        )\n",
    "        return response['Item']\n",
    "    \n",
    "    def updateItem(self,table_name,key,col_name,val):\n",
    "        table = self.resource.Table(table_name)\n",
    "        \n",
    "        response = table.update_item(\n",
    "          Key = key,\n",
    "          UpdateExpression='SET '+ col_name + ' =:val1',\n",
    "          ExpressionAttributeValue={\n",
    "              ':val1': val\n",
    "          }  \n",
    "        )\n",
    "        return 'HTTPStatusCOde is: '+str(response['ResponseMetadata']['HTTPStatusCode'])\n",
    "    \n",
    "    def deleteItem(self, table_name, key):\n",
    "        table = self.resource.Table(table_name)\n",
    "        return table.delete_item(\n",
    "          Key = key\n",
    "        )['ResponseMetadata']['HTTPStatusCode']\n",
    "    \n",
    "    def importTxtFile(self, file_name, table_name, sep):\n",
    "        table = self.resource.Table(table_name)\n",
    "        \n",
    "        df = pd.read_csv(file_name, sep=sep)\n",
    "        df.columns = df.columns.str.replace(\"\\.\",\"_\")\n",
    "        \n",
    "        with table.batch_writer() as batch:\n",
    "            for idx, row in df.iterrows():\n",
    "                tmp=dict()\n",
    "                for i, c in row.items():\n",
    "                    if not pd.isna(c):\n",
    "                        tmp[i] = c\n",
    "                batch.put_item(Item=tmp)\n",
    "                \n",
    "    def queryByKey(self, table_name, expr, index_name=None, filter_expr=None):\n",
    "        table = self.resource.Table(table_name)\n",
    "        result = []\n",
    "        response = None\n",
    "        \n",
    "        while (response is None) or ('LastEvaluatedKey' in response):\n",
    "            if index_name and filter_expr:\n",
    "                response = table.query(\n",
    "                IndexName = index_name,\n",
    "                KeyConditionExpression = expr,\n",
    "                FilterExpression = filter_expr                    \n",
    "                )\n",
    "            elif index_name:\n",
    "                response = table.query(\n",
    "                IndexName = index_name,\n",
    "                KeyConditionExpression = expr    \n",
    "                )\n",
    "            elif filter_expr:\n",
    "                response = table.query(\n",
    "                KeyConditionExpression = expr,\n",
    "                FilterExpression = filter_expr    \n",
    "                )\n",
    "            else:\n",
    "                response = table.query(\n",
    "                KeyConditionExpression=expr\n",
    "                )\n",
    "                \n",
    "            results.extend(response['Items'])  \n",
    "            \n",
    "        return results\n",
    "        # return json.dumps(results, cls=DecimalEncoder )\n",
    "        \n",
    "    def scanTable(self, table_name, filter_expr):\n",
    "        table = self.resource.Table(table_name)\n",
    "        \n",
    "        response = table.scan(\n",
    "            FilterExpression=filter_expr\n",
    "        )\n",
    "        \n",
    "        return response['Items']\n",
    "            \n",
    "    def updateTableSchema(self, attr_def, table_name, GSI_updates):\n",
    "        self.client.update_table(\n",
    "            AttributeDefinitions=attr_def,\n",
    "            TableName=table_name,\n",
    "            GlobalSecondaryIndexUpdates=GSI_updates\n",
    "        )   \n",
    "    "
   ]
  },
  {
   "cell_type": "markdown",
   "metadata": {},
   "source": [
    "## 4. Data Manipulations by DynamoDBDataManager class"
   ]
  },
  {
   "cell_type": "code",
   "execution_count": 16,
   "metadata": {},
   "outputs": [],
   "source": [
    "# Initialize a DynamoDBDataManager instance\n",
    "dynamodb = DynamoDBDataManager(aws_access_key, aws_secret_access_key, region)"
   ]
  },
  {
   "cell_type": "markdown",
   "metadata": {},
   "source": [
    "### 1. Create table"
   ]
  },
  {
   "cell_type": "code",
   "execution_count": null,
   "metadata": {},
   "outputs": [],
   "source": [
    "params = {'TableName': 'sample_test',\n",
    "   'KeySchema': [{'AttributeName': 'GEO_study_ID', 'KeyType': 'HASH'},\n",
    "    {'AttributeName': 'GEO_sample_ID', 'KeyType': 'RANGE'}],\n",
    "    'AttributeDefinitions': [{'AttributeName': 'GEO_study_ID', 'AttributeType': 'S'},\n",
    "    {'AttributeName': 'GEO_sample_ID', 'AttributeType': 'S'}],\n",
    "    'ProvisionedThroughput': {'ReadCapacityUnits': 1, 'WriteCapacityUnits': 1} \n",
    "}\n",
    "\n",
    "# create table using table definition paramters\n",
    "dynamodb.createTable(params)"
   ]
  },
  {
   "cell_type": "markdown",
   "metadata": {},
   "source": [
    "### 2. Add an item to table"
   ]
  },
  {
   "cell_type": "code",
   "execution_count": 17,
   "metadata": {},
   "outputs": [],
   "source": [
    "item = {'GEO_study_ID': 'GSE102746',\n",
    "        'GEO_sample_ID': 'GSM2745967',\n",
    "        'Platform_ID': 'GPL16791',\n",
    "        'Type': 'RNA',\n",
    "        'Organism': 'Homo_sapiens',\n",
    "        'Biomaterial': 'intestinal epithelial organoid',\n",
    "        'Disease': 'ulcerative colitis',\n",
    "        'Patient_number': 'CTD-111',\n",
    "        'Age': 60,\n",
    "        'Race': 'White',\n",
    "        'Gender': 'M'\n",
    "       }\n",
    "dynamodb.addItem('sample_test',item)"
   ]
  },
  {
   "cell_type": "markdown",
   "metadata": {},
   "source": [
    "### 3. Retrieve an item"
   ]
  },
  {
   "cell_type": "code",
   "execution_count": null,
   "metadata": {},
   "outputs": [],
   "source": [
    "key = {'GEO_study_ID':'GSE102746',\n",
    "       'GEO_sample_ID': 'GSM2745967'\n",
    "      }\n",
    "dynamodb.getItem('sample_test',key) "
   ]
  },
  {
   "cell_type": "markdown",
   "metadata": {},
   "source": [
    "### 4. Update an item by key and set teh value of a column"
   ]
  },
  {
   "cell_type": "code",
   "execution_count": null,
   "metadata": {},
   "outputs": [],
   "source": [
    "dynamodb.updateItem('sample_test', key, 'Age', 30)"
   ]
  },
  {
   "cell_type": "code",
   "execution_count": null,
   "metadata": {},
   "outputs": [],
   "source": [
    "dynamodb.getItem('sample_test',key)"
   ]
  },
  {
   "cell_type": "markdown",
   "metadata": {},
   "source": [
    "As shown here, after updating the Age value from 60 to 30"
   ]
  },
  {
   "cell_type": "markdown",
   "metadata": {},
   "source": [
    "### 5. Delete an item by key"
   ]
  },
  {
   "cell_type": "code",
   "execution_count": null,
   "metadata": {},
   "outputs": [],
   "source": [
    "dynamodb.deleteItem('sample_test', key)"
   ]
  },
  {
   "cell_type": "markdown",
   "metadata": {},
   "source": [
    "### 6. Import text file to DynamoDB table"
   ]
  },
  {
   "cell_type": "code",
   "execution_count": null,
   "metadata": {},
   "outputs": [],
   "source": [
    "dynamodb.importTxtFile(\"SampleTable.txt\", \"sample_test\", '\\t')"
   ]
  },
  {
   "cell_type": "markdown",
   "metadata": {},
   "source": [
    "### 7. Query table by keys (partition and sort keys)\n",
    "Based on the table imported from the text file in section 6, we can query table using primary key"
   ]
  },
  {
   "cell_type": "code",
   "execution_count": null,
   "metadata": {},
   "outputs": [],
   "source": [
    "queryexp = Key('GEO_study_ID').eq('GSE102746') & Key('GEO_sample_ID').eq('GSM2745968')\n",
    "dynamodb.queryByKey(\"sample_test\", queryexp)"
   ]
  },
  {
   "cell_type": "markdown",
   "metadata": {},
   "source": [
    "### 8. Query table by keys and filter"
   ]
  },
  {
   "cell_type": "code",
   "execution_count": null,
   "metadata": {},
   "outputs": [],
   "source": [
    "queryexp_1 = Key('GEO_study_ID').eq('GSE102746')\n",
    "filter_expr_1 = Attr('Age').gt(75)\n",
    "\n",
    "dynamodb.queryByKey(\"sample_test\", queryexp_1, filter_expr=filter_expr_1)"
   ]
  },
  {
   "cell_type": "markdown",
   "metadata": {},
   "source": [
    "### 9. Scan table using filters"
   ]
  },
  {
   "cell_type": "code",
   "execution_count": null,
   "metadata": {},
   "outputs": [],
   "source": [
    "filter_expr = Attr('GEO_study_ID').eq('GSE102746') & Attr('Age').gt(75)\n",
    "dynamodb.scanTable(\"sample_test\", filter_expr)"
   ]
  },
  {
   "cell_type": "markdown",
   "metadata": {},
   "source": [
    "### 10. Update table schema to add global secondary index\n",
    "If we want to query the data using columns that are not defined by primary keys, we need to add extra sort keys. This can be done by adding either local or global secondary index, but usually, global secondary index is preferred. Defining global secondary index includes two parts: defining attributes, including the existing partion key, sort key and the column you want to use as the extra sort key; and then the Global Secondary Index, including IndexName, KeySchema (HASH and RANGE keys), Projection and ProvisionedThroughout."
   ]
  },
  {
   "cell_type": "code",
   "execution_count": 18,
   "metadata": {},
   "outputs": [],
   "source": [
    "attr_def = [{'AttributeName':'GEO_study_ID', 'AttributeType':'S'},\n",
    "           {'AttributeName': 'GEO_sample_ID', 'AttributeType': 'S'},\n",
    "           {'AttributeName': 'Age', 'Attribute': 'N'}]\n",
    "\n",
    "GSI_def = [{'Create':{'IndexName': 'GSE_Age', 'KeySchema':[{'AttributeName': 'GEO_study_ID', 'KeyType': 'HASH'},\n",
    "           {'AttributeName': 'Age', 'KeyType': 'RANGE'}], 'Projection': {'ProjectionType': 'ALL'},\n",
    "           'ProvisionedThroughput': {'ReadCapacityUnits':1, 'WriteCapacityUnits': 1}           \n",
    "}}]"
   ]
  },
  {
   "cell_type": "code",
   "execution_count": null,
   "metadata": {},
   "outputs": [],
   "source": [
    "# Update dynamoDB table\n",
    "dynamodb.updateTableSchema(attr_def, 'sample_test', GSI_def)"
   ]
  },
  {
   "cell_type": "code",
   "execution_count": null,
   "metadata": {},
   "outputs": [],
   "source": [
    "# define the KeyConditionExpression and query table using the Global Secondary Index\n",
    "key_expr = Key(\"GEO_study_ID\").eq(\"GSE102746\") & Key('Age').gt(10)\n",
    "dynamodb.queryByKey(\"sample_test\", key_expr, index_name='GSE_Age')"
   ]
  },
  {
   "cell_type": "markdown",
   "metadata": {},
   "source": [
    "### 11. Describe table"
   ]
  },
  {
   "cell_type": "code",
   "execution_count": null,
   "metadata": {},
   "outputs": [],
   "source": [
    "dynamodb.describeTable(\"sample_test\")"
   ]
  },
  {
   "cell_type": "markdown",
   "metadata": {},
   "source": [
    "### 12. Delete table"
   ]
  },
  {
   "cell_type": "code",
   "execution_count": null,
   "metadata": {},
   "outputs": [],
   "source": [
    "dynamodb.deleteTable(\"sample_test\")"
   ]
  },
  {
   "cell_type": "code",
   "execution_count": null,
   "metadata": {},
   "outputs": [],
   "source": []
  }
 ],
 "metadata": {
  "kernelspec": {
   "display_name": "Python 3",
   "language": "python",
   "name": "python3"
  },
  "language_info": {
   "codemirror_mode": {
    "name": "ipython",
    "version": 3
   },
   "file_extension": ".py",
   "mimetype": "text/x-python",
   "name": "python",
   "nbconvert_exporter": "python",
   "pygments_lexer": "ipython3",
   "version": "3.6.7"
  }
 },
 "nbformat": 4,
 "nbformat_minor": 2
}
